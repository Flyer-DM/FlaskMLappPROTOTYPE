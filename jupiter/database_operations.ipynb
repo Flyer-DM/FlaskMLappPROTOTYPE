{
 "cells": [
  {
   "cell_type": "code",
   "execution_count": 1,
   "metadata": {
    "collapsed": true
   },
   "outputs": [],
   "source": [
    "import pandas as pd\n",
    "from datetime import datetime\n",
    "from sqlalchemy import create_engine, inspect, text\n",
    "from sqlalchemy import Column, Integer, String, Boolean, DateTime, ForeignKey\n",
    "from sqlalchemy.orm import sessionmaker, declarative_base\n",
    "from werkzeug.security import generate_password_hash"
   ]
  },
  {
   "cell_type": "code",
   "execution_count": 2,
   "metadata": {
    "collapsed": false
   },
   "outputs": [
    {
     "name": "stdout",
     "output_type": "stream",
     "text": [
      "Подключение к базе данных успешно!\n"
     ]
    }
   ],
   "source": [
    "# Формируем строку подключения\n",
    "connection_string = open('../interface_db.txt', 'r').read()\n",
    "# Создаем движок подключения\n",
    "engine = create_engine(connection_string)\n",
    "# Проверяем подключение\n",
    "try:\n",
    "    with engine.connect() as connection:\n",
    "        print(\"Подключение к базе данных успешно!\")\n",
    "except Exception as e:\n",
    "    print(f\"Ошибка подключения к базе данных: {e}\")\n",
    "finally:\n",
    "    connection.close()"
   ]
  },
  {
   "cell_type": "code",
   "execution_count": 3,
   "metadata": {
    "collapsed": false
   },
   "outputs": [
    {
     "data": {
      "text/plain": "         Table Name\n0        model_meta\n1      model_method\n2  model_hyperparam\n3    interface_user",
      "text/html": "<div>\n<style scoped>\n    .dataframe tbody tr th:only-of-type {\n        vertical-align: middle;\n    }\n\n    .dataframe tbody tr th {\n        vertical-align: top;\n    }\n\n    .dataframe thead th {\n        text-align: right;\n    }\n</style>\n<table border=\"1\" class=\"dataframe\">\n  <thead>\n    <tr style=\"text-align: right;\">\n      <th></th>\n      <th>Table Name</th>\n    </tr>\n  </thead>\n  <tbody>\n    <tr>\n      <th>0</th>\n      <td>model_meta</td>\n    </tr>\n    <tr>\n      <th>1</th>\n      <td>model_method</td>\n    </tr>\n    <tr>\n      <th>2</th>\n      <td>model_hyperparam</td>\n    </tr>\n    <tr>\n      <th>3</th>\n      <td>interface_user</td>\n    </tr>\n  </tbody>\n</table>\n</div>"
     },
     "metadata": {},
     "output_type": "display_data"
    }
   ],
   "source": [
    "inspector = inspect(engine)\n",
    "tables = inspector.get_table_names()\n",
    "display(pd.DataFrame(tables, columns=['Table Name']))"
   ]
  },
  {
   "cell_type": "markdown",
   "metadata": {
    "collapsed": false
   },
   "source": [
    "# Пользователь"
   ]
  },
  {
   "cell_type": "markdown",
   "metadata": {
    "collapsed": false
   },
   "source": [
    "## Создание таблицы user"
   ]
  },
  {
   "cell_type": "code",
   "execution_count": 29,
   "metadata": {
    "collapsed": false
   },
   "outputs": [],
   "source": [
    "Base = declarative_base()"
   ]
  },
  {
   "cell_type": "code",
   "execution_count": 14,
   "metadata": {
    "collapsed": false
   },
   "outputs": [],
   "source": [
    "class InterfaceUser(Base):\n",
    "    __tablename__ = 'interface_user'\n",
    "\n",
    "    id = Column(Integer, primary_key=True)\n",
    "    first_name = Column(String, nullable=False)  # Имя\n",
    "    last_name = Column(String, nullable=False)   # Фамилия\n",
    "    username = Column(String, unique=True, nullable=False)  # Логин\n",
    "    password = Column(String, nullable=False)  # Пароль"
   ]
  },
  {
   "cell_type": "code",
   "execution_count": 10,
   "metadata": {
    "collapsed": false
   },
   "outputs": [],
   "source": [
    "Base.metadata.create_all(engine)"
   ]
  },
  {
   "cell_type": "code",
   "execution_count": 6,
   "metadata": {
    "collapsed": false
   },
   "outputs": [],
   "source": [
    "#Base.metadata.drop_all(engine, tables=[InterfaceUser.__table__])  # удаление таблицы"
   ]
  },
  {
   "cell_type": "markdown",
   "metadata": {
    "collapsed": false
   },
   "source": [
    "## Добавление пользователей"
   ]
  },
  {
   "cell_type": "code",
   "execution_count": 31,
   "metadata": {
    "collapsed": false
   },
   "outputs": [],
   "source": [
    "Session = sessionmaker(bind=engine)\n",
    "session = Session()"
   ]
  },
  {
   "cell_type": "code",
   "execution_count": 32,
   "metadata": {
    "collapsed": false
   },
   "outputs": [],
   "source": [
    "def add_user(first_name, last_name, username, password):\n",
    "    user = InterfaceUser(\n",
    "        first_name=first_name,\n",
    "        last_name=last_name,\n",
    "        username=username,\n",
    "        password=generate_password_hash(password)\n",
    "    )\n",
    "    session.add(user)\n",
    "    session.commit()\n",
    "    print(f\"Пользователь {username} добавлен!\")"
   ]
  },
  {
   "cell_type": "code",
   "execution_count": null,
   "metadata": {
    "collapsed": false
   },
   "outputs": [],
   "source": []
  },
  {
   "cell_type": "markdown",
   "metadata": {
    "collapsed": false
   },
   "source": [
    "## Получение всех пользователей"
   ]
  },
  {
   "cell_type": "code",
   "execution_count": 11,
   "metadata": {
    "collapsed": false
   },
   "outputs": [
    {
     "name": "stdout",
     "output_type": "stream",
     "text": [
      "   id first_name  last_name   username  \\\n",
      "0   1    Дмитрий  Кондрашов  dmitrykon   \n",
      "1   2      Артём   Петриков  APetrikov   \n",
      "\n",
      "                                            password  \n",
      "0  scrypt:32768:8:1$vvIpmHn0o6OCKPpC$b22cf5e24227...  \n",
      "1  scrypt:32768:8:1$xneRAPf0w7HSALty$9ec963de89fc...  \n"
     ]
    }
   ],
   "source": [
    "query = text(\"SELECT * FROM interface_user\")\n",
    "with engine.connect() as connection:\n",
    "    result = connection.execute(query)\n",
    "    df = pd.DataFrame(result.fetchall(), columns=result.keys())\n",
    "\n",
    "# Выведите DataFrame\n",
    "print(df.head())"
   ]
  },
  {
   "cell_type": "markdown",
   "source": [
    "# Модели"
   ],
   "metadata": {
    "collapsed": false
   }
  },
  {
   "cell_type": "markdown",
   "source": [
    "## Создание таблицы model_method"
   ],
   "metadata": {
    "collapsed": false
   }
  },
  {
   "cell_type": "code",
   "execution_count": 5,
   "outputs": [],
   "source": [
    "Base = declarative_base()"
   ],
   "metadata": {
    "collapsed": false
   }
  },
  {
   "cell_type": "code",
   "execution_count": 15,
   "outputs": [],
   "source": [
    "class ModelMethod(Base):\n",
    "    __tablename__ = 'model_method'\n",
    "\n",
    "    id = Column(Integer, primary_key=True)\n",
    "    name = Column(String, nullable=False)  # Название метода моделирования"
   ],
   "metadata": {
    "collapsed": false
   }
  },
  {
   "cell_type": "code",
   "execution_count": 7,
   "outputs": [],
   "source": [
    "Base.metadata.create_all(engine)"
   ],
   "metadata": {
    "collapsed": false
   }
  },
  {
   "cell_type": "markdown",
   "source": [
    "### Добавление методов моделирования"
   ],
   "metadata": {
    "collapsed": false
   }
  },
  {
   "cell_type": "code",
   "execution_count": 7,
   "outputs": [],
   "source": [
    "Session = sessionmaker(bind=engine)\n",
    "session = Session()"
   ],
   "metadata": {
    "collapsed": false
   }
  },
  {
   "cell_type": "code",
   "execution_count": 8,
   "outputs": [],
   "source": [
    "def add_model_method(name):\n",
    "    model_method = ModelMethod(\n",
    "        name=name,\n",
    "    )\n",
    "    session.add(model_method)\n",
    "    session.commit()\n",
    "    print(f\"Метод моделирования {name} добавлен!\")"
   ],
   "metadata": {
    "collapsed": false
   }
  },
  {
   "cell_type": "code",
   "execution_count": 9,
   "outputs": [
    {
     "name": "stdout",
     "output_type": "stream",
     "text": [
      "Метод моделирования CatBoostRegressor добавлен!\n"
     ]
    }
   ],
   "source": [
    "add_model_method(\"CatBoostRegressor\")"
   ],
   "metadata": {
    "collapsed": false
   }
  },
  {
   "cell_type": "markdown",
   "source": [
    "### Получение всех методов"
   ],
   "metadata": {
    "collapsed": false
   }
  },
  {
   "cell_type": "code",
   "execution_count": 10,
   "outputs": [
    {
     "name": "stdout",
     "output_type": "stream",
     "text": [
      "   id               name\n",
      "0   1  CatBoostRegressor\n"
     ]
    }
   ],
   "source": [
    "query = text(\"SELECT * FROM model_method\")\n",
    "with engine.connect() as connection:\n",
    "    result = connection.execute(query)\n",
    "    df = pd.DataFrame(result.fetchall(), columns=result.keys())\n",
    "\n",
    "print(df.head())"
   ],
   "metadata": {
    "collapsed": false
   }
  },
  {
   "cell_type": "markdown",
   "source": [
    "## Создание таблицы model_meta"
   ],
   "metadata": {
    "collapsed": false
   }
  },
  {
   "cell_type": "code",
   "execution_count": 14,
   "outputs": [],
   "source": [
    "Base = declarative_base()"
   ],
   "metadata": {
    "collapsed": false
   }
  },
  {
   "cell_type": "code",
   "execution_count": 15,
   "outputs": [],
   "source": [
    "class ModelMeta(Base):\n",
    "    __tablename__ = 'model_meta'\n",
    "\n",
    "    id = Column(Integer, primary_key=True)\n",
    "    name = Column(String, nullable=False)  # Название модели\n",
    "    author = Column(Integer, ForeignKey(\"interface_user.id\"), nullable=False)  # Автор модели\n",
    "    description = Column(String, nullable=True)  # Описание\n",
    "    creation_on = Column(DateTime, default=datetime.now, nullable=False)  # Время создания\n",
    "    last_changed = Column(Integer, ForeignKey(\"interface_user.id\"), nullable=False)  # Пользователь, изменивший\n",
    "    # модель последний раз\n",
    "    updated_on = Column(DateTime, default=datetime.now, onupdate=datetime.now, nullable=False)  # Время, когда\n",
    "    # последний раз модель была изменена пользователем\n",
    "    finalized = Column(Boolean, default=False, nullable=False)  # Модель финализирована?\n",
    "    state = Column(Integer, default=0, nullable=False)  # Состояние модели:\n",
    "    # 0 - создана запись о модели в БД (автор/дата/описание/типовая позиция)\n",
    "    # 1 - выбран метод моделирования\n",
    "    # 2 - выбраны гиперпараметры метода моделирования\n",
    "    # 3 - модель обучена -> changed=1\n",
    "    # 4 - скорректированы отрицательные значения -> finalized=1\n",
    "    # 5 - модель финализирована\n",
    "    # 6 - модель используется -> used=1\n",
    "    profession = Column(Integer, nullable=True)  # Номер типовой профессии\n",
    "    method = Column(Integer, ForeignKey(\"model_method.id\"), nullable=True)  # Метод моделирования\n",
    "    used = Column(Boolean, default=False, nullable=False)  # Используется в калькуляторе?\n",
    "    retrained = Column(Integer, default=0, nullable=False)  # Сколько раз была переобучена\n",
    "    orig = Column(Integer, ForeignKey(\"model_meta.id\"), nullable=True)  # Ссылка на оригинал модели, если копия"
   ],
   "metadata": {
    "collapsed": false
   }
  },
  {
   "cell_type": "code",
   "execution_count": 17,
   "outputs": [],
   "source": [
    "Base.metadata.create_all(engine)"
   ],
   "metadata": {
    "collapsed": false
   }
  },
  {
   "cell_type": "markdown",
   "source": [
    "### Вывод всех записей"
   ],
   "metadata": {
    "collapsed": false
   }
  },
  {
   "cell_type": "code",
   "execution_count": 8,
   "outputs": [
    {
     "data": {
      "text/plain": "Empty DataFrame\nColumns: [id, name, author, description, creation_on, last_changed, updated_on, finalized, state, profession, method, used, retrained, orig]\nIndex: []",
      "text/html": "<div>\n<style scoped>\n    .dataframe tbody tr th:only-of-type {\n        vertical-align: middle;\n    }\n\n    .dataframe tbody tr th {\n        vertical-align: top;\n    }\n\n    .dataframe thead th {\n        text-align: right;\n    }\n</style>\n<table border=\"1\" class=\"dataframe\">\n  <thead>\n    <tr style=\"text-align: right;\">\n      <th></th>\n      <th>id</th>\n      <th>name</th>\n      <th>author</th>\n      <th>description</th>\n      <th>creation_on</th>\n      <th>last_changed</th>\n      <th>updated_on</th>\n      <th>finalized</th>\n      <th>state</th>\n      <th>profession</th>\n      <th>method</th>\n      <th>used</th>\n      <th>retrained</th>\n      <th>orig</th>\n    </tr>\n  </thead>\n  <tbody>\n  </tbody>\n</table>\n</div>"
     },
     "metadata": {},
     "output_type": "display_data"
    }
   ],
   "source": [
    "try:\n",
    "    with engine.connect() as connection:\n",
    "        query = text(\"SELECT * FROM model_meta\")\n",
    "        result = connection.execute(query)\n",
    "        df = pd.DataFrame(result.fetchall(), columns=result.keys())\n",
    "        display(df.head())\n",
    "except Exception as e:\n",
    "    print(f\"Ошибка при выполнении операции: {e}\")"
   ],
   "metadata": {
    "collapsed": false
   }
  },
  {
   "cell_type": "code",
   "execution_count": 7,
   "outputs": [
    {
     "name": "stdout",
     "output_type": "stream",
     "text": [
      "Содержимое таблицы 'model_meta' успешно очищено.\n",
      "Empty DataFrame\n",
      "Columns: [id, name, author, description, creation_on, last_changed, updated_on, finalized, state, profession, method, used, retrained, orig]\n",
      "Index: []\n"
     ]
    }
   ],
   "source": [
    "# clear_table_query = text(\"DELETE FROM model_meta CASCADE\")\n",
    "#\n",
    "# try:\n",
    "#     with engine.connect() as connection:\n",
    "#         # Выполнение запроса на очистку таблицы\n",
    "#         connection.execute(clear_table_query)\n",
    "#         print(\"Содержимое таблицы 'model_meta' успешно очищено.\")\n",
    "#\n",
    "#         # Проверка содержимого таблицы после очистки\n",
    "#         query = text(\"SELECT * FROM model_meta\")\n",
    "#         result = connection.execute(query)\n",
    "#         df = pd.DataFrame(result.fetchall(), columns=result.keys())\n",
    "#\n",
    "#         print(df.head())\n",
    "#\n",
    "#         connection.commit()\n",
    "# except Exception as e:\n",
    "#     print(f\"Ошибка при выполнении операции: {e}\")"
   ],
   "metadata": {
    "collapsed": false
   }
  },
  {
   "cell_type": "markdown",
   "source": [
    "## Создание таблицы model_hyperparam"
   ],
   "metadata": {
    "collapsed": false
   }
  },
  {
   "cell_type": "code",
   "execution_count": null,
   "outputs": [],
   "source": [
    "Base = declarative_base()"
   ],
   "metadata": {
    "collapsed": false
   }
  },
  {
   "cell_type": "code",
   "execution_count": 19,
   "outputs": [],
   "source": [
    "class ModelHyperparam(Base):\n",
    "    __tablename__ = 'model_hyperparam'\n",
    "\n",
    "    id = Column(Integer, primary_key=True)\n",
    "    model_id = Column(Integer, ForeignKey(\"model_meta.id\"), nullable=False)\n",
    "    name = Column(String, nullable=False)  # Название гиперпараметра модели\n",
    "    value = Column(String, nullable=False)  # Значение гиперпараметра модели"
   ],
   "metadata": {
    "collapsed": false
   }
  },
  {
   "cell_type": "code",
   "execution_count": 20,
   "outputs": [],
   "source": [
    "Base.metadata.create_all(engine)"
   ],
   "metadata": {
    "collapsed": false
   }
  }
 ],
 "metadata": {
  "kernelspec": {
   "display_name": "Python 3",
   "language": "python",
   "name": "python3"
  },
  "language_info": {
   "codemirror_mode": {
    "name": "ipython",
    "version": 2
   },
   "file_extension": ".py",
   "mimetype": "text/x-python",
   "name": "python",
   "nbconvert_exporter": "python",
   "pygments_lexer": "ipython2",
   "version": "2.7.6"
  }
 },
 "nbformat": 4,
 "nbformat_minor": 0
}
