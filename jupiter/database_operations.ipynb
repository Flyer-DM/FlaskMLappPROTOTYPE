{
 "cells": [
  {
   "cell_type": "code",
   "execution_count": 26,
   "metadata": {
    "collapsed": true
   },
   "outputs": [],
   "source": [
    "import pandas as pd\n",
    "from sqlalchemy import create_engine, inspect, text\n",
    "from sqlalchemy import Column, Integer, String\n",
    "from sqlalchemy.orm import sessionmaker, declarative_base\n",
    "from werkzeug.security import generate_password_hash"
   ]
  },
  {
   "cell_type": "code",
   "execution_count": 27,
   "metadata": {
    "collapsed": false
   },
   "outputs": [
    {
     "name": "stdout",
     "output_type": "stream",
     "text": [
      "Подключение к базе данных успешно!\n"
     ]
    }
   ],
   "source": [
    "# Формируем строку подключения\n",
    "connection_string = open('../interface_db.txt', 'r').read()\n",
    "# Создаем движок подключения\n",
    "engine = create_engine(connection_string)\n",
    "# Проверяем подключение\n",
    "try:\n",
    "    with engine.connect() as connection:\n",
    "        print(\"Подключение к базе данных успешно!\")\n",
    "except Exception as e:\n",
    "    print(f\"Ошибка подключения к базе данных: {e}\")"
   ]
  },
  {
   "cell_type": "code",
   "execution_count": 28,
   "metadata": {
    "collapsed": false
   },
   "outputs": [
    {
     "data": {
      "text/html": [
       "<div>\n",
       "<style scoped>\n",
       "    .dataframe tbody tr th:only-of-type {\n",
       "        vertical-align: middle;\n",
       "    }\n",
       "\n",
       "    .dataframe tbody tr th {\n",
       "        vertical-align: top;\n",
       "    }\n",
       "\n",
       "    .dataframe thead th {\n",
       "        text-align: right;\n",
       "    }\n",
       "</style>\n",
       "<table border=\"1\" class=\"dataframe\">\n",
       "  <thead>\n",
       "    <tr style=\"text-align: right;\">\n",
       "      <th></th>\n",
       "      <th>Table Name</th>\n",
       "    </tr>\n",
       "  </thead>\n",
       "  <tbody>\n",
       "    <tr>\n",
       "      <th>0</th>\n",
       "      <td>interface_user</td>\n",
       "    </tr>\n",
       "  </tbody>\n",
       "</table>\n",
       "</div>"
      ],
      "text/plain": [
       "       Table Name\n",
       "0  interface_user"
      ]
     },
     "metadata": {},
     "output_type": "display_data"
    }
   ],
   "source": [
    "inspector = inspect(engine)\n",
    "tables = inspector.get_table_names()\n",
    "display(pd.DataFrame(tables, columns=['Table Name']))"
   ]
  },
  {
   "cell_type": "markdown",
   "metadata": {
    "collapsed": false
   },
   "source": [
    "# Пользователь"
   ]
  },
  {
   "cell_type": "markdown",
   "metadata": {
    "collapsed": false
   },
   "source": [
    "## Создание таблицы user"
   ]
  },
  {
   "cell_type": "code",
   "execution_count": 29,
   "metadata": {
    "collapsed": false
   },
   "outputs": [],
   "source": [
    "Base = declarative_base()"
   ]
  },
  {
   "cell_type": "code",
   "execution_count": 30,
   "metadata": {
    "collapsed": false
   },
   "outputs": [],
   "source": [
    "class InterfaceUser(Base):\n",
    "    __tablename__ = 'interface_user'\n",
    "\n",
    "    id = Column(Integer, primary_key=True)\n",
    "    first_name = Column(String, nullable=False)  # Имя\n",
    "    last_name = Column(String, nullable=False)   # Фамилия\n",
    "    username = Column(String, unique=True, nullable=False)  # Логин\n",
    "    password = Column(String, nullable=False)  # Пароль"
   ]
  },
  {
   "cell_type": "code",
   "execution_count": 10,
   "metadata": {
    "collapsed": false
   },
   "outputs": [],
   "source": [
    "Base.metadata.create_all(engine)"
   ]
  },
  {
   "cell_type": "code",
   "execution_count": 6,
   "metadata": {
    "collapsed": false
   },
   "outputs": [],
   "source": [
    "#Base.metadata.drop_all(engine, tables=[InterfaceUser.__table__])  # удаление тыблицы"
   ]
  },
  {
   "cell_type": "markdown",
   "metadata": {
    "collapsed": false
   },
   "source": [
    "## Добавление пользователей"
   ]
  },
  {
   "cell_type": "code",
   "execution_count": 31,
   "metadata": {
    "collapsed": false
   },
   "outputs": [],
   "source": [
    "Session = sessionmaker(bind=engine)\n",
    "session = Session()"
   ]
  },
  {
   "cell_type": "code",
   "execution_count": 32,
   "metadata": {
    "collapsed": false
   },
   "outputs": [],
   "source": [
    "def add_user(first_name, last_name, username, password):\n",
    "    user = InterfaceUser(\n",
    "        first_name=first_name,\n",
    "        last_name=last_name,\n",
    "        username=username,\n",
    "        password=generate_password_hash(password)\n",
    "    )\n",
    "    session.add(user)\n",
    "    session.commit()\n",
    "    print(f\"Пользователь {username} добавлен!\")"
   ]
  },
  {
   "cell_type": "code",
   "execution_count": null,
   "metadata": {
    "collapsed": false
   },
   "outputs": [],
   "source": []
  },
  {
   "cell_type": "markdown",
   "metadata": {
    "collapsed": false
   },
   "source": [
    "## Получение всех пользователей"
   ]
  },
  {
   "cell_type": "code",
   "execution_count": 33,
   "metadata": {
    "collapsed": false
   },
   "outputs": [
    {
     "name": "stdout",
     "output_type": "stream",
     "text": [
      "   id first_name  last_name   username  \\\n",
      "0   1    Дмитрий  Кондрашов  dmitrykon   \n",
      "1   2      Артём   Петриков  APetrikov   \n",
      "\n",
      "                                            password  \n",
      "0  scrypt:32768:8:1$vvIpmHn0o6OCKPpC$b22cf5e24227...  \n",
      "1  scrypt:32768:8:1$xneRAPf0w7HSALty$9ec963de89fc...  \n"
     ]
    }
   ],
   "source": [
    "query = text(\"SELECT * FROM interface_user\")\n",
    "with engine.connect() as connection:\n",
    "    result = connection.execute(query)\n",
    "    df = pd.DataFrame(result.fetchall(), columns=result.keys())\n",
    "\n",
    "# Выведите DataFrame\n",
    "print(df.head())"
   ]
  }
 ],
 "metadata": {
  "kernelspec": {
   "display_name": "Python 3",
   "language": "python",
   "name": "python3"
  },
  "language_info": {
   "codemirror_mode": {
    "name": "ipython",
    "version": 2
   },
   "file_extension": ".py",
   "mimetype": "text/x-python",
   "name": "python",
   "nbconvert_exporter": "python",
   "pygments_lexer": "ipython2",
   "version": "2.7.6"
  }
 },
 "nbformat": 4,
 "nbformat_minor": 0
}
