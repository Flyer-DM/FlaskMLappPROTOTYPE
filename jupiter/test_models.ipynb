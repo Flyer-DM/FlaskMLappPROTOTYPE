{
 "cells": [
  {
   "cell_type": "code",
   "execution_count": 51,
   "id": "74d5c019",
   "metadata": {},
   "outputs": [],
   "source": [
    "import os\n",
    "import re\n",
    "import time\n",
    "import pandas as pd\n",
    "from tqdm import tqdm\n",
    "from typing import Dict, Tuple, List\n",
    "from catboost import CatBoostRegressor\n",
    "from sklearn.preprocessing import LabelEncoder\n",
    "from sklearn.model_selection import train_test_split\n",
    "from sklearn.metrics import mean_squared_error, mean_absolute_percentage_error"
   ]
  },
  {
   "cell_type": "code",
   "execution_count": 39,
   "id": "4c647b91",
   "metadata": {},
   "outputs": [],
   "source": [
    "POS_NUM_PATTERN = r'(?<=_)\\d+(?=_)'\n",
    "DROP_COLS = ['salary_from_rub']\n",
    "INDEX_COL = 'id'\n",
    "TARGET = 'new_salary'\n",
    "\n",
    "def open_data_set(path: str) -> (int, pd.DataFrame):\n",
    "    \"\"\"Считывание одного датасета типовой позиции с преобразованием категориальных данных\"\"\"\n",
    "    data = pd.read_csv(path, index_col=INDEX_COL)\n",
    "    pos_num = int(re.search(POS_NUM_PATTERN, path).group(0))\n",
    "    data = data.drop(columns=DROP_COLS, errors='ignore')\n",
    "    return pos_num, data\n",
    "    \n",
    "def open_files(basepath: str) -> Dict[int, pd.DataFrame]:\n",
    "    \"\"\"Считывание всех датасетов в словарь\"\"\"\n",
    "    datasets = {}\n",
    "    for file in tqdm(os.listdir(basepath), ascii=True):\n",
    "        key, value = open_data_set(basepath + file)\n",
    "        datasets.setdefault(key, value)\n",
    "    return datasets"
   ]
  },
  {
   "cell_type": "code",
   "execution_count": 41,
   "id": "9dfaaa95",
   "metadata": {},
   "outputs": [
    {
     "name": "stderr",
     "output_type": "stream",
     "text": [
      "100%|##################################################################################| 75/75 [00:35<00:00,  2.10it/s]\n"
     ]
    }
   ],
   "source": [
    "datasets = open_files('./train/')"
   ]
  },
  {
   "cell_type": "code",
   "execution_count": 67,
   "id": "d36ef457",
   "metadata": {},
   "outputs": [],
   "source": [
    "def train_model(data: pd.DataFrame) -> Tuple[int, float, float]:\n",
    "    \"\"\"Тренировка одной модели. Воозращает время обучения (сек), метрику rmse, метрику mape\"\"\"\n",
    "    categorical_columns = []\n",
    "    for col in data.columns[data.dtypes == object]:\n",
    "        data[col] = LabelEncoder().fit_transform(data[col].values)\n",
    "        categorical_columns.append(col)\n",
    "    for col in data.columns[data.dtypes == bool]:\n",
    "        data[col] = data[col].astype(int)\n",
    "    features = [col for col in data.columns if col not in [TARGET]]\n",
    "    cat_idxs = [i for i, f in enumerate(features) if f in categorical_columns]\n",
    "    x = data.drop(columns=[TARGET])\n",
    "    y = data[TARGET]\n",
    "    x_train, x_test, y_train, y_test = train_test_split(x, y, test_size=.33,\n",
    "                                                        random_state=42)\n",
    "    model = CatBoostRegressor(loss_function='RMSE')\n",
    "    start_time = time.time()\n",
    "    model.fit(\n",
    "        x_train,\n",
    "        y_train,\n",
    "        cat_features=cat_idxs,\n",
    "        eval_set=(x_test, y_test),\n",
    "        verbose=False,\n",
    "        plot=False\n",
    "    )\n",
    "    training_time = int(time.time() - start_time)\n",
    "    test_preds = model.predict(x_test)\n",
    "    rmse = mean_squared_error(y_test, test_preds, squared=False)\n",
    "    mape = mean_absolute_percentage_error(y_test, test_preds)\n",
    "    return training_time, rmse, mape\n",
    "\n",
    "def get_model_stats(datasets: Dict[int, pd.DataFrame]) -> pd.DataFrame:\n",
    "    \"\"\"Получение статистических данных для всех старых типовых позиций\"\"\"\n",
    "    result: List[List[int, int, float, float, int]] = []\n",
    "    cols = [\"Типовая позиция\", \"Время обучения\", \"RMSE\", \"MAPE\", \"Размер датасета\"]\n",
    "    for key in tqdm(datasets, ascii=True):\n",
    "        dataset = datasets[key]\n",
    "        training_time, rmse, mape = train_model(dataset)\n",
    "        result.append([key, training_time, rmse, mape, dataset.shape[0]])\n",
    "    result = pd.DataFrame(result, columns=cols)\n",
    "    return result"
   ]
  },
  {
   "cell_type": "code",
   "execution_count": 70,
   "id": "17d6051b",
   "metadata": {},
   "outputs": [
    {
     "name": "stderr",
     "output_type": "stream",
     "text": [
      "100%|################################################################################| 75/75 [1:11:42<00:00, 57.36s/it]\n"
     ]
    }
   ],
   "source": [
    "final_table = get_model_stats(datasets)"
   ]
  },
  {
   "cell_type": "code",
   "execution_count": 71,
   "id": "d26b1c84",
   "metadata": {},
   "outputs": [
    {
     "data": {
      "text/html": [
       "<div>\n",
       "<style scoped>\n",
       "    .dataframe tbody tr th:only-of-type {\n",
       "        vertical-align: middle;\n",
       "    }\n",
       "\n",
       "    .dataframe tbody tr th {\n",
       "        vertical-align: top;\n",
       "    }\n",
       "\n",
       "    .dataframe thead th {\n",
       "        text-align: right;\n",
       "    }\n",
       "</style>\n",
       "<table border=\"1\" class=\"dataframe\">\n",
       "  <thead>\n",
       "    <tr style=\"text-align: right;\">\n",
       "      <th></th>\n",
       "      <th>Типовая позиция</th>\n",
       "      <th>Время обучения</th>\n",
       "      <th>RMSE</th>\n",
       "      <th>MAPE</th>\n",
       "      <th>Размер датасета</th>\n",
       "    </tr>\n",
       "  </thead>\n",
       "  <tbody>\n",
       "    <tr>\n",
       "      <th>0</th>\n",
       "      <td>102</td>\n",
       "      <td>8</td>\n",
       "      <td>7915.132237</td>\n",
       "      <td>0.178860</td>\n",
       "      <td>6383</td>\n",
       "    </tr>\n",
       "    <tr>\n",
       "      <th>1</th>\n",
       "      <td>111</td>\n",
       "      <td>69</td>\n",
       "      <td>11407.967743</td>\n",
       "      <td>0.216463</td>\n",
       "      <td>41603</td>\n",
       "    </tr>\n",
       "    <tr>\n",
       "      <th>2</th>\n",
       "      <td>116</td>\n",
       "      <td>58</td>\n",
       "      <td>4032.037188</td>\n",
       "      <td>0.214494</td>\n",
       "      <td>30370</td>\n",
       "    </tr>\n",
       "    <tr>\n",
       "      <th>3</th>\n",
       "      <td>119</td>\n",
       "      <td>44</td>\n",
       "      <td>11699.558876</td>\n",
       "      <td>0.174828</td>\n",
       "      <td>5270</td>\n",
       "    </tr>\n",
       "    <tr>\n",
       "      <th>4</th>\n",
       "      <td>124</td>\n",
       "      <td>50</td>\n",
       "      <td>8001.137343</td>\n",
       "      <td>0.166153</td>\n",
       "      <td>566</td>\n",
       "    </tr>\n",
       "  </tbody>\n",
       "</table>\n",
       "</div>"
      ],
      "text/plain": [
       "   Типовая позиция  Время обучения          RMSE      MAPE  Размер датасета\n",
       "0              102               8   7915.132237  0.178860             6383\n",
       "1              111              69  11407.967743  0.216463            41603\n",
       "2              116              58   4032.037188  0.214494            30370\n",
       "3              119              44  11699.558876  0.174828             5270\n",
       "4              124              50   8001.137343  0.166153              566"
      ]
     },
     "execution_count": 71,
     "metadata": {},
     "output_type": "execute_result"
    }
   ],
   "source": [
    "final_table.head()"
   ]
  },
  {
   "cell_type": "code",
   "execution_count": 75,
   "id": "eba0b1fc",
   "metadata": {},
   "outputs": [],
   "source": [
    "final_table = final_table.sort_values(by='Типовая позиция')\n",
    "final_table.to_excel(\"final_table.xlsx\", index=False, sheet_name=\"Метаданные по старым датасетам\")"
   ]
  }
 ],
 "metadata": {
  "kernelspec": {
   "display_name": "Python 3 (ipykernel)",
   "language": "python",
   "name": "python3"
  },
  "language_info": {
   "codemirror_mode": {
    "name": "ipython",
    "version": 3
   },
   "file_extension": ".py",
   "mimetype": "text/x-python",
   "name": "python",
   "nbconvert_exporter": "python",
   "pygments_lexer": "ipython3",
   "version": "3.9.13"
  }
 },
 "nbformat": 4,
 "nbformat_minor": 5
}
